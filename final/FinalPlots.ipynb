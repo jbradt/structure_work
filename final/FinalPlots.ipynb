{
 "metadata": {
  "name": "",
  "signature": ""
 },
 "nbformat": 3,
 "nbformat_minor": 0,
 "worksheets": [
  {
   "cells": [
    {
     "cell_type": "code",
     "collapsed": false,
     "input": [
      "%matplotlib inline\n",
      "import sys\n",
      "sys.path.append('..')"
     ],
     "language": "python",
     "metadata": {},
     "outputs": []
    },
    {
     "cell_type": "code",
     "collapsed": false,
     "input": [
      "import shellcode as sc\n",
      "import numpy as np\n",
      "import matplotlib.pyplot as plt\n",
      "from matplotlib.patches import Patch\n",
      "import seaborn as sns"
     ],
     "language": "python",
     "metadata": {},
     "outputs": []
    },
    {
     "cell_type": "code",
     "collapsed": false,
     "input": [
      "knred = '#861001'\n",
      "kngray = '#343434'\n",
      "knbg = '#FFF6D6'"
     ],
     "language": "python",
     "metadata": {},
     "outputs": []
    },
    {
     "cell_type": "code",
     "collapsed": false,
     "input": [
      "style_dict = {'text.color': kngray,\n",
      "#               'axes.facecolor': 'none',\n",
      "              'grid.color': kngray,\n",
      "              'ytick.color': kngray,\n",
      "              'axes.edgecolor': kngray,\n",
      "              'xtick.color': kngray,\n",
      "              'axes.labelcolor': kngray,}"
     ],
     "language": "python",
     "metadata": {},
     "outputs": []
    },
    {
     "cell_type": "code",
     "collapsed": false,
     "input": [
      "sns.set_style('ticks', style_dict)"
     ],
     "language": "python",
     "metadata": {},
     "outputs": []
    },
    {
     "cell_type": "code",
     "collapsed": false,
     "input": [
      "sns.axes_style()"
     ],
     "language": "python",
     "metadata": {},
     "outputs": []
    },
    {
     "cell_type": "heading",
     "level": 1,
     "metadata": {},
     "source": [
      "Shellcode Results"
     ]
    },
    {
     "cell_type": "code",
     "collapsed": false,
     "input": [
      "evs = []\n",
      "for n in range(2, 13, 1):\n",
      "    nuclevs = []\n",
      "    for m in range(-20, 21, 1):\n",
      "        ea = sc.find_eigenvalues(n, m)\n",
      "        ea = np.round(ea * 1000).astype(int)\n",
      "        nuclevs.append(ea)\n",
      "    nuclevs = np.concatenate(nuclevs)\n",
      "    nuclevs -= nuclevs.min()\n",
      "    lowest = np.unique(nuclevs)[:4]\n",
      "    na = np.full_like(lowest, n)\n",
      "    res = np.vstack((na, lowest)).T\n",
      "    evs.append(res)\n",
      "evs = np.concatenate(evs)"
     ],
     "language": "python",
     "metadata": {},
     "outputs": []
    },
    {
     "cell_type": "code",
     "collapsed": false,
     "input": [
      "pal = sns.color_palette('Set2', 10, desat=0.8)\n",
      "plt.figure(figsize=(10, 6))\n",
      "\n",
      "for lev in evs:\n",
      "    n, e = lev\n",
      "    plt.plot([n+0.1, n+0.9], [e, e], color=knred, linewidth=0.7)\n",
      "\n",
      "ax = plt.gca()\n",
      "ax.set_xticks(np.arange(2, 13) + 0.5)\n",
      "ax.set_xticklabels([r'O{}'.format(a+16) for a in range(2, 13)], ha='center')\n",
      "plt.xlim(2, 13)\n",
      "plt.ylim(-100)\n",
      "plt.xlabel('Nucleus')\n",
      "plt.ylabel('Energy [keV]')\n",
      "sns.despine()\n",
      "plt.savefig('Images/sclevels.pdf', transparent=True)"
     ],
     "language": "python",
     "metadata": {},
     "outputs": []
    },
    {
     "cell_type": "heading",
     "level": 1,
     "metadata": {},
     "source": [
      "From NushellX"
     ]
    },
    {
     "cell_type": "code",
     "collapsed": false,
     "input": [
      "import os\n",
      "import glob\n",
      "import re"
     ],
     "language": "python",
     "metadata": {},
     "outputs": []
    },
    {
     "cell_type": "code",
     "collapsed": false,
     "input": [
      "nxpath = os.path.abspath('./nushellx_results/')\n",
      "ns = range(2, 13)\n",
      "nucs = ['o{}'.format(a+16) for a in ns]"
     ],
     "language": "python",
     "metadata": {},
     "outputs": []
    },
    {
     "cell_type": "code",
     "collapsed": false,
     "input": [
      "nxfiles = {}\n",
      "for n, nuc in zip(ns, nucs):\n",
      "   nxfiles[n] = glob.glob(os.path.join(nxpath, nuc, '*.ls'))"
     ],
     "language": "python",
     "metadata": {},
     "outputs": []
    },
    {
     "cell_type": "code",
     "collapsed": false,
     "input": [
      "nxlevels = []\n",
      "for n, fns in nxfiles.items():\n",
      "    nuclevs = []\n",
      "    for fn in fns:\n",
      "        with open(fn) as f:\n",
      "            for i, line in enumerate(f):\n",
      "                if i == 0 or len(line) <= 1:\n",
      "                    continue\n",
      "                else:\n",
      "                    vals = line.strip().split()\n",
      "                    nuclevs.append(float(vals[3]) * 1000)\n",
      "    nuclevs = np.array(nuclevs)\n",
      "    nuclevs -= nuclevs.min()\n",
      "    nuclevs = np.unique(nuclevs)[:4]\n",
      "    na = np.full_like(nuclevs, n)\n",
      "    res = np.vstack((na, nuclevs)).T\n",
      "    nxlevels.append(res)\n",
      "nxlevels = np.concatenate(nxlevels)"
     ],
     "language": "python",
     "metadata": {},
     "outputs": []
    },
    {
     "cell_type": "code",
     "collapsed": false,
     "input": [
      "plt.figure(figsize=(10, 6))\n",
      "\n",
      "for lev in nxlevels:\n",
      "    n, e = lev\n",
      "    plt.plot([n+0.1, n+0.9], [e, e], color=knred, linewidth=0.7)\n",
      "\n",
      "ax = plt.gca()\n",
      "ax.set_xticks(np.arange(2, 13) + 0.5)\n",
      "ax.set_xticklabels([r'O{}'.format(a+16) for a in range(2, 13)], ha='center')\n",
      "plt.xlim(2, 13)\n",
      "plt.ylim(-100)\n",
      "plt.xlabel('Nucleus')\n",
      "plt.ylabel('Energy')\n",
      "sns.despine()\n",
      "plt.savefig('Images/nxlevels.pdf')"
     ],
     "language": "python",
     "metadata": {},
     "outputs": []
    },
    {
     "cell_type": "code",
     "collapsed": false,
     "input": [
      "plt.figure(figsize=(10, 6))\n",
      "\n",
      "for lev in nxlevels:\n",
      "    n, e = lev\n",
      "    plt.plot([n+0.1, n+0.5], [e, e], color=knred, linewidth=0.7)\n",
      "\n",
      "for lev in evs:\n",
      "    n, e = lev\n",
      "    plt.plot([n+0.5, n+0.9], [e, e], color=sns.xkcd_rgb['denim blue'], linewidth=0.7)\n",
      "\n",
      "ax = plt.gca()\n",
      "ax.set_xticks(np.arange(2, 13) + 0.5)\n",
      "ax.set_xticklabels([r'O{}'.format(a+16) for a in range(2, 13)], ha='center')\n",
      "plt.xlim(2, 13)\n",
      "plt.ylim(-100)\n",
      "plt.xlabel('Nucleus')\n",
      "plt.ylabel('Energy [keV]')\n",
      "sns.despine()\n",
      "\n",
      "scpatch = Patch(edgecolor='none', facecolor=knred, label='NushellX')\n",
      "nxpatch = Patch(edgecolor='none', facecolor=sns.xkcd_rgb['denim blue'], label='Project Results')\n",
      "\n",
      "plt.legend(handles=(scpatch, nxpatch), loc='upper left')\n",
      "plt.savefig('Images/complevels.pdf', transparent=True)"
     ],
     "language": "python",
     "metadata": {},
     "outputs": []
    },
    {
     "cell_type": "heading",
     "level": 1,
     "metadata": {},
     "source": [
      "NNDC Data"
     ]
    },
    {
     "cell_type": "code",
     "collapsed": false,
     "input": [
      "nndcdir = os.path.abspath('./nndc/')\n",
      "datfiles = glob.glob(os.path.join(nndcdir, '*O.dat'))"
     ],
     "language": "python",
     "metadata": {},
     "outputs": []
    },
    {
     "cell_type": "code",
     "collapsed": false,
     "input": [
      "datfiles"
     ],
     "language": "python",
     "metadata": {},
     "outputs": []
    },
    {
     "cell_type": "code",
     "collapsed": false,
     "input": [
      "measdat = []\n",
      "for filename in datfiles:\n",
      "    n = int(re.match(r'.*/(\\d\\d)O.dat', filename).groups()[0]) - 16\n",
      "    nulevs = []\n",
      "    with open(filename) as f:\n",
      "        for line in f:\n",
      "            items = line.strip().split()\n",
      "            if 'L' in items and items[1] == 'L':\n",
      "                nulevs.append(float(items[2]))\n",
      "    nulevs = np.unique(nulevs)[:8]\n",
      "    ns = np.full_like(nulevs, n)\n",
      "    res = np.vstack((ns, nulevs)).T\n",
      "    measdat.append(res)\n",
      "measdat = np.concatenate(measdat)        "
     ],
     "language": "python",
     "metadata": {},
     "outputs": []
    },
    {
     "cell_type": "code",
     "collapsed": false,
     "input": [
      "plt.figure(figsize=(10, 6))\n",
      "\n",
      "for lev in measdat:\n",
      "    n, e = lev\n",
      "    plt.plot([n+0.1, n+0.9], [e, e], color='black', linewidth=0.7)\n",
      "\n",
      "ax = plt.gca()\n",
      "ax.set_xticks(np.arange(2, 13) + 0.5)\n",
      "ax.set_xticklabels([r'O{}'.format(a+16) for a in range(2, 13)], ha='center')\n",
      "plt.xlim(2, 13)\n",
      "plt.ylim(-100)\n",
      "plt.xlabel('Nucleus')\n",
      "plt.ylabel('Energy')\n",
      "sns.despine()\n",
      "plt.savefig('Images/measlevels.pdf')"
     ],
     "language": "python",
     "metadata": {},
     "outputs": []
    },
    {
     "cell_type": "code",
     "collapsed": false,
     "input": [
      "plt.figure(figsize=(10, 6))\n",
      "\n",
      "for lev in nxlevels:\n",
      "    n, e = lev\n",
      "    plt.plot([n+0.3, n+0.6], [e, e], color=knred, linewidth=0.7)\n",
      "\n",
      "for lev in evs:\n",
      "    n, e = lev\n",
      "    plt.plot([n+0.6, n+0.9], [e, e], color=sns.xkcd_rgb['denim blue'], linewidth=0.7)\n",
      "    \n",
      "for lev in measdat:\n",
      "    n, e = lev\n",
      "    plt.plot([n+0, n+0.3], [e, e], color=kngray, linewidth=0.7)\n",
      "\n",
      "ax = plt.gca()\n",
      "ax.set_xticks(np.arange(2, 13) + 0.45)\n",
      "ax.set_xticklabels([r'O{}'.format(a+16) for a in range(2, 13)], ha='center')\n",
      "plt.xlim(1.9, 13)\n",
      "plt.ylim(-100, 8000)\n",
      "plt.xlabel('Nucleus')\n",
      "plt.ylabel('Energy [keV]')\n",
      "sns.despine()\n",
      "\n",
      "datpatch = Patch(edgecolor='none', facecolor=kngray, label='Experiment')\n",
      "scpatch = Patch(edgecolor='none', facecolor=knred, label='NushellX')\n",
      "nxpatch = Patch(edgecolor='none', facecolor=sns.xkcd_rgb['denim blue'], label='Project Results')\n",
      "\n",
      "plt.legend(handles=(datpatch, scpatch, nxpatch), loc='upper left')\n",
      "plt.savefig('Images/alllevels.pdf', transparent=True)"
     ],
     "language": "python",
     "metadata": {},
     "outputs": []
    },
    {
     "cell_type": "code",
     "collapsed": false,
     "input": [],
     "language": "python",
     "metadata": {},
     "outputs": []
    }
   ],
   "metadata": {}
  }
 ]
}