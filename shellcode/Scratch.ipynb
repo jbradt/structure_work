{
 "metadata": {
  "name": "",
  "signature": ""
 },
 "nbformat": 3,
 "nbformat_minor": 0,
 "worksheets": [
  {
   "cells": [
    {
     "cell_type": "code",
     "collapsed": false,
     "input": [
      "sp_states = []\n",
      "mels = []\n",
      "labels \n",
      "with open('usdb.txt') as usdb:\n",
      "    for line in usdb:\n",
      "        if line[0] == '#':\n",
      "            continue\n",
      "        parts = [float(x) if '.' in x else int(x) for x in line.split()]\n",
      "        if len(parts) == 1:\n",
      "            continue\n",
      "        elif len(parts) == 6:\n",
      "            st = dict(zip())\n",
      "            sp_states.append(parts)\n",
      "        elif len(parts) == 5:\n",
      "            mels.append(parts)"
     ],
     "language": "python",
     "metadata": {},
     "outputs": []
    },
    {
     "cell_type": "code",
     "collapsed": false,
     "input": [
      "import shellcode as sc\n",
      "from functools import reduce\n",
      "from math import copysign\n",
      "import numpy as np"
     ],
     "language": "python",
     "metadata": {},
     "outputs": []
    },
    {
     "cell_type": "code",
     "collapsed": false,
     "input": [
      "sps, mel = sc.load_interaction('usdb.txt')\n",
      "sds = sc.slater(2, sps, total_m=3)\n",
      "print(sds)\n",
      "\n",
      "hc = sc.find_hamiltonian_matrix(sds, sps, mel)\n",
      "print(hc)"
     ],
     "language": "python",
     "metadata": {},
     "outputs": []
    },
    {
     "cell_type": "code",
     "collapsed": false,
     "input": [
      "mel[1,2,1,2]"
     ],
     "language": "python",
     "metadata": {},
     "outputs": []
    },
    {
     "cell_type": "code",
     "collapsed": false,
     "input": [
      "cmp(2**abs(-4), -4)"
     ],
     "language": "python",
     "metadata": {},
     "outputs": []
    },
    {
     "cell_type": "code",
     "collapsed": false,
     "input": [
      "%timeit sum(map(lambda x: int(copysign(2**abs(x), x)), [1,-2,3,-4,5,6,7,-8,9]))"
     ],
     "language": "python",
     "metadata": {},
     "outputs": []
    },
    {
     "cell_type": "code",
     "collapsed": false,
     "input": [
      "%timeit sum([int(2**abs(x) * x/abs(x)) for x in [1,-2,3,-4,5,6,7,-8,9]])"
     ],
     "language": "python",
     "metadata": {},
     "outputs": []
    },
    {
     "cell_type": "code",
     "collapsed": false,
     "input": [
      "%timeit reduce(lambda x, y: x+y, map(lambda x: int(2**abs(x) * x/abs(x)), [1,-2,3,-4,5,6,7,-8,9]))"
     ],
     "language": "python",
     "metadata": {},
     "outputs": []
    },
    {
     "cell_type": "code",
     "collapsed": false,
     "input": [
      "%timeit sc.phase(0b11010, -2, -4, 6)"
     ],
     "language": "python",
     "metadata": {},
     "outputs": []
    },
    {
     "cell_type": "code",
     "collapsed": false,
     "input": [
      "%timeit np.array([1, -2, 3, -4, 5, 6, 7, -8, 9])"
     ],
     "language": "python",
     "metadata": {},
     "outputs": []
    },
    {
     "cell_type": "code",
     "collapsed": false,
     "input": [
      "sc.merge_sort([3,6,1,5])"
     ],
     "language": "python",
     "metadata": {},
     "outputs": []
    },
    {
     "cell_type": "code",
     "collapsed": false,
     "input": [
      "sc.phase(2**1+2**11, 4, -11, 11, -1)"
     ],
     "language": "python",
     "metadata": {},
     "outputs": []
    },
    {
     "cell_type": "code",
     "collapsed": false,
     "input": [
      "sc.phase(2**4+2**11, -4, -11, 1, 11)"
     ],
     "language": "python",
     "metadata": {},
     "outputs": []
    },
    {
     "cell_type": "code",
     "collapsed": false,
     "input": [
      "-0"
     ],
     "language": "python",
     "metadata": {},
     "outputs": []
    },
    {
     "cell_type": "code",
     "collapsed": false,
     "input": [],
     "language": "python",
     "metadata": {},
     "outputs": []
    }
   ],
   "metadata": {}
  }
 ]
}