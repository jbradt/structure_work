{
 "metadata": {
  "name": "",
  "signature": ""
 },
 "nbformat": 3,
 "nbformat_minor": 0,
 "worksheets": [
  {
   "cells": [
    {
     "cell_type": "code",
     "collapsed": false,
     "input": [
      "sp_states = []\n",
      "mels = []\n",
      "labels \n",
      "with open('usdb.txt') as usdb:\n",
      "    for line in usdb:\n",
      "        if line[0] == '#':\n",
      "            continue\n",
      "        parts = [float(x) if '.' in x else int(x) for x in line.split()]\n",
      "        if len(parts) == 1:\n",
      "            continue\n",
      "        elif len(parts) == 6:\n",
      "            st = dict(zip())\n",
      "            sp_states.append(parts)\n",
      "        elif len(parts) == 5:\n",
      "            mels.append(parts)"
     ],
     "language": "python",
     "metadata": {},
     "outputs": []
    }
   ],
   "metadata": {}
  }
 ]
}