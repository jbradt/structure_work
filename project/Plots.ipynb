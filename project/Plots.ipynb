{
 "metadata": {
  "name": "",
  "signature": ""
 },
 "nbformat": 3,
 "nbformat_minor": 0,
 "worksheets": [
  {
   "cells": [
    {
     "cell_type": "markdown",
     "metadata": {},
     "source": [
      "#Phy 981 Project\n",
      "Josh Bradt"
     ]
    },
    {
     "cell_type": "code",
     "collapsed": false,
     "input": [
      "%matplotlib inline\n",
      "import matplotlib.pyplot as plt\n",
      "import seaborn as sns\n",
      "import numpy as np\n",
      "import os\n",
      "imgdir = os.path.abspath('./images') + '/'"
     ],
     "language": "python",
     "metadata": {},
     "outputs": []
    },
    {
     "cell_type": "code",
     "collapsed": false,
     "input": [
      "sns.set_style('whitegrid')\n",
      "sns.set_context('paper')"
     ],
     "language": "python",
     "metadata": {},
     "outputs": []
    },
    {
     "cell_type": "markdown",
     "metadata": {},
     "source": [
      "##Results of Code"
     ]
    },
    {
     "cell_type": "code",
     "collapsed": false,
     "input": [
      "import shellcode as sc"
     ],
     "language": "python",
     "metadata": {},
     "outputs": []
    },
    {
     "cell_type": "code",
     "collapsed": false,
     "input": [
      "gvals = np.linspace(-1, 1, 20)\n",
      "evs_vs_g = []\n",
      "for g in gvals:\n",
      "    evs = sc.find_pairing_hamiltonian_eigenvalues(nparticles=2, pmax=2, total_m=0, pairs_only=True, g=g)\n",
      "    evs = evs[evs.argsort()]\n",
      "    evs_vs_g.append(evs)\n",
      "evs_vs_g = np.array(evs_vs_g)\n",
      "\n",
      "plt.figure(figsize=(4, 2.75))\n",
      "for i, line in enumerate(evs_vs_g.T):\n",
      "    plt.plot(gvals, line)\n",
      "plt.xlabel('Pairing strength g')\n",
      "plt.ylabel('Eigenvalue')\n",
      "plt.subplots_adjust(bottom=0.2)\n",
      "plt.savefig(imgdir+'calc2.pdf')"
     ],
     "language": "python",
     "metadata": {},
     "outputs": []
    },
    {
     "cell_type": "code",
     "collapsed": false,
     "input": [
      "gvals = np.linspace(-1, 1, 20)\n",
      "evs_vs_g = []\n",
      "for g in gvals:\n",
      "    evs = sc.find_pairing_hamiltonian_eigenvalues(nparticles=4, pmax=4, total_m=0, pairs_only=True, g=g)\n",
      "    evs = evs[evs.argsort()]\n",
      "    evs_vs_g.append(evs)\n",
      "evs_vs_g = np.array(evs_vs_g)\n",
      "\n",
      "plt.figure(figsize=(4, 2.75))\n",
      "for i, line in enumerate(evs_vs_g.T):\n",
      "    plt.plot(gvals, line)\n",
      "plt.xlabel('Pairing strength g')\n",
      "plt.ylabel('Eigenvalue')\n",
      "plt.subplots_adjust(bottom=0.2)\n",
      "plt.savefig(imgdir+'calc4.pdf')"
     ],
     "language": "python",
     "metadata": {},
     "outputs": []
    },
    {
     "cell_type": "heading",
     "level": 2,
     "metadata": {},
     "source": [
      "Part e"
     ]
    },
    {
     "cell_type": "code",
     "collapsed": false,
     "input": [
      "def true_gs(g, n, deg):\n",
      "    return -g/4 * n * (deg - n + 2)"
     ],
     "language": "python",
     "metadata": {},
     "outputs": []
    },
    {
     "cell_type": "code",
     "collapsed": false,
     "input": [
      "gvals = np.linspace(-1, 1, 21)\n",
      "gsens = np.zeros_like(gvals)\n",
      "for i, g in enumerate(gvals):\n",
      "    states = list(sc.sp_states(1, 5/2))\n",
      "    sds = sc.slater(6, states, 0, True)\n",
      "    hmat = sc.find_hamiltonian_matrix(sds, states, g=g, xi=0)\n",
      "    gsens[i] = np.linalg.eigvalsh(hmat)[0]\n",
      "truegsens = np.array([true_gs(g, 6, 6) for g in gvals])\n",
      "plt.figure(figsize=(4, 2.75))\n",
      "plt.plot(gvals, gsens, label='Calculated')\n",
      "plt.plot(gvals, truegsens, label='Expected')\n",
      "plt.legend()\n",
      "plt.xlabel('Pairing strength g')\n",
      "plt.ylabel('Ground state energy')\n",
      "plt.savefig(imgdir+'gs6.pdf')"
     ],
     "language": "python",
     "metadata": {},
     "outputs": []
    },
    {
     "cell_type": "code",
     "collapsed": false,
     "input": [
      "gvals = np.linspace(-1, 1, 21)\n",
      "gsens = np.zeros_like(gvals)\n",
      "for i, g in enumerate(gvals):\n",
      "    states = list(sc.sp_states(1, 7/2))\n",
      "    sds = sc.slater(8, states, 0, True)\n",
      "    hmat = sc.find_hamiltonian_matrix(sds, states, g=g, xi=0)\n",
      "    gsens[i] = np.linalg.eigvalsh(hmat)[0]\n",
      "truegsens = np.array([true_gs(g, 8, 8) for g in gvals])\n",
      "plt.figure(figsize=(4, 2.75))\n",
      "plt.plot(gvals, gsens, label='Calculated')\n",
      "plt.plot(gvals, truegsens, label='Expected')\n",
      "plt.legend()\n",
      "plt.xlabel('Pairing strength g')\n",
      "plt.ylabel('Ground state energy')\n",
      "plt.savefig(imgdir+'gs8.pdf')"
     ],
     "language": "python",
     "metadata": {},
     "outputs": []
    },
    {
     "cell_type": "code",
     "collapsed": false,
     "input": [
      "gvals = np.linspace(-1, 1, 21)\n",
      "evs_vs_g = []\n",
      "for g in gvals:\n",
      "    evs = sc.find_pairing_hamiltonian_eigenvalues(nparticles=6, pmax=6, total_m=0, pairs_only=True, g=g)\n",
      "    evs = evs[evs.argsort()]\n",
      "    evs_vs_g.append(evs)\n",
      "evs_vs_g = np.array(evs_vs_g)\n",
      "\n",
      "plt.figure(figsize=(4, 2.75))\n",
      "for i, line in enumerate(evs_vs_g.T):\n",
      "    plt.plot(gvals, line)\n",
      "plt.xlabel('Pairing strength g')\n",
      "plt.ylabel('Eigenvalue')\n",
      "plt.subplots_adjust(bottom=0.2)\n",
      "plt.savefig(imgdir+'calc6.pdf')"
     ],
     "language": "python",
     "metadata": {},
     "outputs": []
    },
    {
     "cell_type": "code",
     "collapsed": false,
     "input": [
      "gvals = np.linspace(-1, 1, 20)\n",
      "evs_vs_g = []\n",
      "for g in gvals:\n",
      "    evs = sc.find_pairing_hamiltonian_eigenvalues(nparticles=8, pmax=8, total_m=0, pairs_only=True, g=g)\n",
      "    evs = evs[evs.argsort()]\n",
      "    evs_vs_g.append(evs)\n",
      "evs_vs_g = np.array(evs_vs_g)\n",
      "\n",
      "plt.figure(figsize=(4, 2.75))\n",
      "for i, line in enumerate(evs_vs_g.T):\n",
      "    plt.plot(gvals, line)\n",
      "plt.xlabel('Pairing strength g')\n",
      "plt.ylabel('Eigenvalue')\n",
      "plt.subplots_adjust(bottom=0.2)\n",
      "plt.savefig(imgdir+'calc8.pdf')"
     ],
     "language": "python",
     "metadata": {},
     "outputs": []
    },
    {
     "cell_type": "code",
     "collapsed": false,
     "input": [
      "len(evs_vs_g)"
     ],
     "language": "python",
     "metadata": {},
     "outputs": []
    },
    {
     "cell_type": "code",
     "collapsed": false,
     "input": [
      "evs_vs_g.shape"
     ],
     "language": "python",
     "metadata": {},
     "outputs": []
    },
    {
     "cell_type": "code",
     "collapsed": false,
     "input": [],
     "language": "python",
     "metadata": {},
     "outputs": []
    }
   ],
   "metadata": {}
  }
 ]
}