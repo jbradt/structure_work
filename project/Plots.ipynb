{
 "metadata": {
  "name": "",
  "signature": ""
 },
 "nbformat": 3,
 "nbformat_minor": 0,
 "worksheets": [
  {
   "cells": [
    {
     "cell_type": "markdown",
     "metadata": {},
     "source": [
      "#Phy 981 Project\n",
      "Josh Bradt"
     ]
    },
    {
     "cell_type": "code",
     "collapsed": false,
     "input": [
      "%matplotlib inline\n",
      "import matplotlib.pyplot as plt\n",
      "import seaborn as sns\n",
      "import numpy as np\n",
      "import os\n",
      "imgdir = os.path.abspath('./images') + '/'"
     ],
     "language": "python",
     "metadata": {},
     "outputs": []
    },
    {
     "cell_type": "code",
     "collapsed": false,
     "input": [
      "sns.set_style('whitegrid')\n",
      "sns.set_context('paper')"
     ],
     "language": "python",
     "metadata": {},
     "outputs": []
    },
    {
     "cell_type": "markdown",
     "metadata": {},
     "source": [
      "##Results of Code"
     ]
    },
    {
     "cell_type": "code",
     "collapsed": false,
     "input": [
      "import shellcode as sc"
     ],
     "language": "python",
     "metadata": {},
     "outputs": []
    },
    {
     "cell_type": "code",
     "collapsed": false,
     "input": [
      "gvals = np.linspace(-1, 1, 20)\n",
      "evs_vs_g = []\n",
      "for g in gvals:\n",
      "    evs = sc.find_pairing_hamiltonian_eigenvalues(nparticles=2, pmax=2, total_m=0, pairs_only=True, g=g)\n",
      "    evs = evs[evs.argsort()]\n",
      "    evs_vs_g.append(evs)\n",
      "evs_vs_g = np.array(evs_vs_g)\n",
      "\n",
      "plt.figure(figsize=(4, 2.75))\n",
      "for i, line in enumerate(evs_vs_g.T):\n",
      "    plt.plot(gvals, line)\n",
      "plt.xlabel('Pairing strength g')\n",
      "plt.ylabel('Eigenvalue')\n",
      "plt.subplots_adjust(bottom=0.2)\n",
      "plt.savefig(imgdir+'calc2.pdf')"
     ],
     "language": "python",
     "metadata": {},
     "outputs": []
    },
    {
     "cell_type": "code",
     "collapsed": false,
     "input": [
      "gvals = np.linspace(-1, 1, 20)\n",
      "evs_vs_g = []\n",
      "for g in gvals:\n",
      "    evs = sc.find_pairing_hamiltonian_eigenvalues(nparticles=4, pmax=4, total_m=0, pairs_only=True, g=g)\n",
      "    evs = evs[evs.argsort()]\n",
      "    evs_vs_g.append(evs)\n",
      "evs_vs_g = np.array(evs_vs_g)\n",
      "\n",
      "plt.figure(figsize=(4, 2.75))\n",
      "for i, line in enumerate(evs_vs_g.T):\n",
      "    plt.plot(gvals, line)\n",
      "plt.xlabel('Pairing strength g')\n",
      "plt.ylabel('Eigenvalue')\n",
      "plt.subplots_adjust(bottom=0.2)\n",
      "plt.savefig(imgdir+'calc4.pdf')"
     ],
     "language": "python",
     "metadata": {},
     "outputs": []
    },
    {
     "cell_type": "heading",
     "level": 2,
     "metadata": {},
     "source": [
      "Part e"
     ]
    },
    {
     "cell_type": "code",
     "collapsed": false,
     "input": [
      "gvals = np.linspace(-1, 1, 20)\n",
      "evs_vs_g = []\n",
      "for g in gvals:\n",
      "    evs = sc.find_pairing_hamiltonian_eigenvalues(nparticles=6, pmax=6, total_m=0, pairs_only=False, g=g)\n",
      "    evs_vs_g.append(evs)\n",
      "evs_vs_g = np.array(evs_vs_g)"
     ],
     "language": "python",
     "metadata": {},
     "outputs": []
    },
    {
     "cell_type": "code",
     "collapsed": false,
     "input": [
      "sns.set_style('ticks')\n",
      "with sns.color_palette('Greys_d'):\n",
      "    plt.figure(figsize=(10, 8))\n",
      "    for i, line in enumerate(evs_vs_g.T):\n",
      "        plt.plot(gvals, line, color='black', linewidth=0.5)\n",
      "    plt.xlabel('Pairing strength g')\n",
      "    plt.ylabel('Eigenvalue')\n",
      "    plt.subplots_adjust(bottom=0.2)\n",
      "    # plt.savefig(imgdir+'calc4.pdf')"
     ],
     "language": "python",
     "metadata": {},
     "outputs": []
    },
    {
     "cell_type": "code",
     "collapsed": false,
     "input": [
      "gvals = np.linspace(-1, 1, 20)\n",
      "evs_vs_g = []\n",
      "for g in gvals:\n",
      "    evs = sc.find_pairing_hamiltonian_eigenvalues(nparticles=8, pmax=8, total_m=0, pairs_only=True, g=g)\n",
      "    evs_vs_g.append(evs)\n",
      "evs_vs_g = np.array(evs_vs_g)"
     ],
     "language": "python",
     "metadata": {},
     "outputs": []
    },
    {
     "cell_type": "code",
     "collapsed": false,
     "input": [
      "sns.set_style('ticks')\n",
      "plt.figure(figsize=(4, 2.75))\n",
      "for i, line in enumerate(evs_vs_g.T):\n",
      "    plt.plot(gvals, line, color='black', linewidth=0.5)\n",
      "plt.xlabel('Pairing strength g')\n",
      "plt.ylabel('Eigenvalue')\n",
      "sns.despine()\n",
      "plt.subplots_adjust(bottom=0.2)\n",
      "plt.savefig(imgdir+'calc8.pdf')"
     ],
     "language": "python",
     "metadata": {},
     "outputs": []
    },
    {
     "cell_type": "code",
     "collapsed": false,
     "input": [],
     "language": "python",
     "metadata": {},
     "outputs": []
    }
   ],
   "metadata": {}
  }
 ]
}